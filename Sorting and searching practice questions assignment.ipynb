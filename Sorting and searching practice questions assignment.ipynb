{
 "cells": [
  {
   "cell_type": "code",
   "execution_count": 1,
   "id": "973e3b62-b56d-4822-ac3c-9811de7c312a",
   "metadata": {},
   "outputs": [
    {
     "name": "stdout",
     "output_type": "stream",
     "text": [
      "Input:\n",
      "A = [1, 3, 5, 7, 9]\n",
      "B = [2, 4, 5, 8]\n",
      "Output:\n",
      "Intersection: [5]\n"
     ]
    }
   ],
   "source": [
    "#Answer of Questions\n",
    "#1)\n",
    "def intersection_of_arrays(A, B):\n",
    "    intersection = []\n",
    "    i = j = 0\n",
    "\n",
    "    while i < len(A) and j < len(B):\n",
    "        if A[i] == B[j]:\n",
    "            intersection.append(A[i])\n",
    "            i += 1\n",
    "            j += 1\n",
    "        elif A[i] < B[j]:\n",
    "            i += 1\n",
    "        else:\n",
    "            j += 1\n",
    "\n",
    "    return intersection\n",
    "\n",
    "A = [1, 3, 5, 7, 9]\n",
    "B = [2, 4, 5, 8]\n",
    "print(\"Input:\")\n",
    "print(\"A =\", A)\n",
    "print(\"B =\", B)\n",
    "print(\"Output:\")\n",
    "print(\"Intersection:\", intersection_of_arrays(A, B))\n"
   ]
  },
  {
   "cell_type": "code",
   "execution_count": 3,
   "id": "a5feb147-7661-4cf0-9e8e-a602969b919d",
   "metadata": {},
   "outputs": [
    {
     "name": "stdout",
     "output_type": "stream",
     "text": [
      "Input:\n",
      "List: [1, 3, 7, 8, 12, 20]\n",
      "k = 3\n",
      "Output:\n",
      "The 3 smallest element is 7\n"
     ]
    }
   ],
   "source": [
    "#2)\n",
    "def kth_smallest_element(nums, k):\n",
    "    # Sort the list\n",
    "    nums.sort()\n",
    "    return nums[k - 1]\n",
    "\n",
    "input_list = [12, 3, 1, 7, 8, 20]\n",
    "k = 3\n",
    "result = kth_smallest_element(input_list, k)\n",
    "print(\"Input:\")\n",
    "print(\"List:\", input_list)\n",
    "print(\"k =\", k)\n",
    "print(\"Output:\")\n",
    "print(\"The\", k, \"smallest element is\", result)\n"
   ]
  },
  {
   "cell_type": "code",
   "execution_count": 4,
   "id": "401fe3dd-7b3b-4a33-b12a-da82b7c9f00c",
   "metadata": {},
   "outputs": [
    {
     "name": "stdout",
     "output_type": "stream",
     "text": [
      "Element 6 found at index 2\n"
     ]
    }
   ],
   "source": [
    "#3)\n",
    "def search_rotated_array(arr, target):\n",
    "    left, right = 0, len(arr) - 1\n",
    "\n",
    "    while left <= right:\n",
    "        mid = (left + right) // 2\n",
    "        if arr[mid] == target:\n",
    "            return mid\n",
    "        if arr[left] <= arr[mid]:\n",
    "            if arr[left] <= target < arr[mid]:\n",
    "                right = mid - 1\n",
    "            else:\n",
    "                left = mid + 1\n",
    "        else:\n",
    "            if arr[mid] < target <= arr[right]:\n",
    "                left = mid + 1\n",
    "            else:\n",
    "                right = mid - 1\n",
    "\n",
    "    return -1\n",
    "\n",
    "arr = [4, 5, 6, 7, 8, 9, 1, 2, 3]\n",
    "target = 6\n",
    "index = search_rotated_array(arr, target)\n",
    "if index != -1:\n",
    "    print(\"Element\", target, \"found at index\", index)\n",
    "else:\n",
    "    print(\"Element\", target, \"not found in the array\")\n"
   ]
  },
  {
   "cell_type": "code",
   "execution_count": 5,
   "id": "6bde1a5f-fb73-450d-ab92-453c778f5d83",
   "metadata": {},
   "outputs": [
    {
     "name": "stdout",
     "output_type": "stream",
     "text": [
      "Element 11 found at position (1, 2)\n"
     ]
    }
   ],
   "source": [
    "#4)\n",
    "def search_in_matrix(matrix, target):\n",
    "    if not matrix:\n",
    "        return None\n",
    "\n",
    "    rows = len(matrix)\n",
    "    cols = len(matrix[0])\n",
    "    row, col = 0, cols - 1\n",
    "\n",
    "    while row < rows and col >= 0:\n",
    "        if matrix[row][col] == target:\n",
    "            return row, col\n",
    "        elif matrix[row][col] < target:\n",
    "            row += 1\n",
    "        else:\n",
    "            col -= 1\n",
    "\n",
    "    return None\n",
    "Matrix = [\n",
    "    [1, 3, 5],\n",
    "    [7, 9, 11],\n",
    "    [13, 15, 17]\n",
    "]\n",
    "Element = 11\n",
    "position = search_in_matrix(Matrix, Element)\n",
    "if position:\n",
    "    print(\"Element\", Element, \"found at position\", position)\n",
    "else:\n",
    "    print(\"Element\", Element, \"not found in the matrix\")\n"
   ]
  },
  {
   "cell_type": "code",
   "execution_count": 6,
   "id": "84809cf5-e1f5-47ed-82d6-61612d9dfb6c",
   "metadata": {},
   "outputs": [
    {
     "name": "stdout",
     "output_type": "stream",
     "text": [
      "Input:\n",
      "['apple', 'banana', 'kiwi', 'orange', 'grape']\n",
      "Output:\n",
      "['kiwi', 'apple', 'grape', 'banana', 'orange']\n"
     ]
    }
   ],
   "source": [
    "#5)\n",
    "def sort_strings_by_length(strings):\n",
    "    return sorted(strings, key=len)\n",
    "input_strings = ['apple', 'banana', 'kiwi', 'orange', 'grape']\n",
    "sorted_strings = sort_strings_by_length(input_strings)\n",
    "print(\"Input:\")\n",
    "print(input_strings)\n",
    "print(\"Output:\")\n",
    "print(sorted_strings)\n"
   ]
  },
  {
   "cell_type": "code",
   "execution_count": 7,
   "id": "d66446ef-01b5-4203-9186-765a985f6339",
   "metadata": {},
   "outputs": [
    {
     "name": "stdout",
     "output_type": "stream",
     "text": [
      "Original array: [12, 11, 13, 5, 6, 7]\n",
      "Sorted array: [5, 6, 7, 11, 12, 13]\n"
     ]
    }
   ],
   "source": [
    "#6)\n",
    "def merge_sort(arr):\n",
    "    if len(arr) <= 1:\n",
    "        return arr\n",
    "    mid = len(arr) // 2\n",
    "    left_half = arr[:mid]\n",
    "    right_half = arr[mid:]\n",
    "    left_half = merge_sort(left_half)\n",
    "    right_half = merge_sort(right_half)\n",
    "    return merge(left_half, right_half)\n",
    "\n",
    "def merge(left, right):\n",
    "    merged = []\n",
    "    left_pointer = right_pointer = 0\n",
    "    while left_pointer < len(left) and right_pointer < len(right):\n",
    "        if left[left_pointer] < right[right_pointer]:\n",
    "            merged.append(left[left_pointer])\n",
    "            left_pointer += 1\n",
    "        else:\n",
    "            merged.append(right[right_pointer])\n",
    "            right_pointer += 1\n",
    "    while left_pointer < len(left):\n",
    "        merged.append(left[left_pointer])\n",
    "        left_pointer += 1\n",
    "    while right_pointer < len(right):\n",
    "        merged.append(right[right_pointer])\n",
    "        right_pointer += 1\n",
    "\n",
    "    return merged\n",
    "arr = [12, 11, 13, 5, 6, 7]\n",
    "print(\"Original array:\", arr)\n",
    "sorted_arr = merge_sort(arr)\n",
    "print(\"Sorted array:\", sorted_arr)\n"
   ]
  },
  {
   "cell_type": "code",
   "execution_count": 8,
   "id": "e6fef0a6-39a9-460a-8b83-c2643c052adf",
   "metadata": {},
   "outputs": [
    {
     "name": "stdout",
     "output_type": "stream",
     "text": [
      "Original array: [10, 7, 8, 9, 1, 5]\n",
      "Sorted array: [1, 5, 7, 8, 9, 10]\n"
     ]
    }
   ],
   "source": [
    "#7)\n",
    "def quick_sort(arr):\n",
    "    if len(arr) <= 1:\n",
    "        return arr\n",
    "    else:\n",
    "        pivot = arr[0]\n",
    "        less_than_pivot = [x for x in arr[1:] if x <= pivot]\n",
    "        greater_than_pivot = [x for x in arr[1:] if x > pivot]\n",
    "        return quick_sort(less_than_pivot) + [pivot] + quick_sort(greater_than_pivot)\n",
    "arr = [10, 7, 8, 9, 1, 5]\n",
    "print(\"Original array:\", arr)\n",
    "sorted_arr = quick_sort(arr)\n",
    "print(\"Sorted array:\", sorted_arr)\n"
   ]
  },
  {
   "cell_type": "code",
   "execution_count": 9,
   "id": "55101d4a-64b7-4f95-bc82-09ff25ba3e1c",
   "metadata": {},
   "outputs": [
    {
     "name": "stdout",
     "output_type": "stream",
     "text": [
      "Original array: [4, 2, 2, 8, 3, 3, 1]\n",
      "Sorted array: [1, 2, 2, 3, 3, 4, 8]\n"
     ]
    }
   ],
   "source": [
    "#8)\n",
    "def counting_sort(arr):\n",
    "    max_val = max(arr)  \n",
    "    counts = [0] * (max_val + 1)  \n",
    "    for num in arr:\n",
    "        counts[num] += 1\n",
    "    sorted_arr = []\n",
    "    for i in range(len(counts)):\n",
    "        sorted_arr.extend([i] * counts[i])\n",
    "\n",
    "    return sorted_arr\n",
    "arr = [4, 2, 2, 8, 3, 3, 1]\n",
    "print(\"Original array:\", arr)\n",
    "sorted_arr = counting_sort(arr)\n",
    "print(\"Sorted array:\", sorted_arr)\n"
   ]
  },
  {
   "cell_type": "code",
   "execution_count": 10,
   "id": "582a4827-8df2-4b48-b16c-6a110fa41c84",
   "metadata": {},
   "outputs": [
    {
     "name": "stdout",
     "output_type": "stream",
     "text": [
      "Input: [1, 3, 20, 4, 1, 0]\n",
      "Peak element is 20\n"
     ]
    }
   ],
   "source": [
    "#9)\n",
    "def find_peak_element(arr):\n",
    "    for i in range(len(arr)):\n",
    "        if (i == 0 or arr[i] >= arr[i - 1]) and (i == len(arr) - 1 or arr[i] >= arr[i + 1]):\n",
    "            return arr[i]\n",
    "arr = [1, 3, 20, 4, 1, 0]\n",
    "peak = find_peak_element(arr)\n",
    "print(\"Input:\", arr)\n",
    "if peak is not None:\n",
    "    print(\"Peak element is\", peak)\n",
    "else:\n",
    "    print(\"No peak element found\")\n"
   ]
  },
  {
   "cell_type": "code",
   "execution_count": 11,
   "id": "8af09f4e-de6d-413e-9ac2-4962e4a56730",
   "metadata": {},
   "outputs": [
    {
     "name": "stdout",
     "output_type": "stream",
     "text": [
      "Element 5 found at index 5\n"
     ]
    }
   ],
   "source": [
    "#10)\n",
    "def search_nearly_sorted(arr, target, k):\n",
    "    left, right = 0, len(arr) - 1\n",
    "\n",
    "    while left <= right:\n",
    "        mid = (left + right) // 2\n",
    "        if arr[mid] == target:\n",
    "            return mid\n",
    "        for i in range(1, k + 1):\n",
    "            if mid - i >= left and arr[mid - i] == target:\n",
    "                return mid - i\n",
    "            if mid + i <= right and arr[mid + i] == target:\n",
    "                return mid + i\n",
    "        if arr[mid] < target:\n",
    "            left = mid + 1\n",
    "        else:\n",
    "            right = mid - 1\n",
    "\n",
    "    return -1\n",
    "arr = [2, 1, 3, 4, 6, 5, 7]\n",
    "target = 5\n",
    "k = 1\n",
    "index = search_nearly_sorted(arr, target, k)\n",
    "if index != -1:\n",
    "    print(\"Element\", target, \"found at index\", index)\n",
    "else:\n",
    "    print(\"Element\", target, \"not found in the array\")\n"
   ]
  }
 ],
 "metadata": {
  "kernelspec": {
   "display_name": "Python 3 (ipykernel)",
   "language": "python",
   "name": "python3"
  },
  "language_info": {
   "codemirror_mode": {
    "name": "ipython",
    "version": 3
   },
   "file_extension": ".py",
   "mimetype": "text/x-python",
   "name": "python",
   "nbconvert_exporter": "python",
   "pygments_lexer": "ipython3",
   "version": "3.10.8"
  }
 },
 "nbformat": 4,
 "nbformat_minor": 5
}
